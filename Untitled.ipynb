{
 "cells": [
  {
   "cell_type": "markdown",
   "id": "044e0905",
   "metadata": {},
   "source": [
    "# Windmill Power Landscape: A Geospatial Analysis and Visualization of Renewable Energy Assets\n"
   ]
  },
  {
   "cell_type": "markdown",
   "id": "30398586",
   "metadata": {},
   "source": [
    "# Dependencies Installation\n",
    "\n",
    "In order to perform our data analysis and visualization, we require the following Python libraries:\n",
    "\n",
    "- `pandas`: for data manipulation and analysis.\n",
    "- `folium`: for visualizing data on an interactive map.\n",
    "- `pyproj`: for converting geospatial data to different coordinate systems.\n",
    "- `matplotlib`: for creating static, interactive, and animated visualizations in Python.\n",
    "- `seaborn`: for making attractive and informative statistical graphics.\n",
    "\n",
    "Run the following command to install these libraries. This step ensures that our environment has all the necessary tools for the subsequent analysis."
   ]
  },
  {
   "cell_type": "code",
   "execution_count": 35,
   "id": "4eab5440",
   "metadata": {
    "scrolled": true
   },
   "outputs": [
    {
     "name": "stdout",
     "output_type": "stream",
     "text": [
      "Defaulting to user installation because normal site-packages is not writeable"
     ]
    },
    {
     "name": "stderr",
     "output_type": "stream",
     "text": [
      "WARNING: Ignoring invalid distribution -rotobuf (c:\\users\\lenna\\appdata\\roaming\\python\\python39\\site-packages)\n",
      "WARNING: Ignoring invalid distribution -rotobuf (c:\\users\\lenna\\appdata\\roaming\\python\\python39\\site-packages)\n",
      "WARNING: Ignoring invalid distribution -rotobuf (c:\\users\\lenna\\appdata\\roaming\\python\\python39\\site-packages)"
     ]
    },
    {
     "name": "stdout",
     "output_type": "stream",
     "text": [
      "\n",
      "Requirement already satisfied: pandas in c:\\programdata\\anaconda3\\lib\\site-packages (1.4.2)\n",
      "Requirement already satisfied: folium in c:\\users\\lenna\\appdata\\roaming\\python\\python39\\site-packages (0.16.0)\n",
      "Requirement already satisfied: pyproj in c:\\users\\lenna\\appdata\\roaming\\python\\python39\\site-packages (3.6.1)\n",
      "Requirement already satisfied: matplotlib in c:\\programdata\\anaconda3\\lib\\site-packages (3.5.1)\n",
      "Requirement already satisfied: seaborn in c:\\programdata\\anaconda3\\lib\\site-packages (0.11.2)\n",
      "Requirement already satisfied: numpy>=1.18.5 in c:\\programdata\\anaconda3\\lib\\site-packages (from pandas) (1.21.5)\n",
      "Requirement already satisfied: pytz>=2020.1 in c:\\programdata\\anaconda3\\lib\\site-packages (from pandas) (2021.3)\n",
      "Requirement already satisfied: python-dateutil>=2.8.1 in c:\\programdata\\anaconda3\\lib\\site-packages (from pandas) (2.8.2)\n",
      "Requirement already satisfied: branca>=0.6.0 in c:\\users\\lenna\\appdata\\roaming\\python\\python39\\site-packages (from folium) (0.7.2)\n",
      "Requirement already satisfied: requests in c:\\programdata\\anaconda3\\lib\\site-packages (from folium) (2.27.1)\n",
      "Requirement already satisfied: jinja2>=2.9 in c:\\users\\lenna\\appdata\\roaming\\python\\python39\\site-packages (from folium) (3.1.3)\n",
      "Requirement already satisfied: xyzservices in c:\\users\\lenna\\appdata\\roaming\\python\\python39\\site-packages (from folium) (2024.4.0)\n",
      "Requirement already satisfied: certifi in c:\\programdata\\anaconda3\\lib\\site-packages (from pyproj) (2021.10.8)\n",
      "Requirement already satisfied: pyparsing>=2.2.1 in c:\\programdata\\anaconda3\\lib\\site-packages (from matplotlib) (3.0.4)\n",
      "Requirement already satisfied: packaging>=20.0 in c:\\programdata\\anaconda3\\lib\\site-packages (from matplotlib) (21.3)\n",
      "Requirement already satisfied: kiwisolver>=1.0.1 in c:\\programdata\\anaconda3\\lib\\site-packages (from matplotlib) (1.3.2)\n",
      "Requirement already satisfied: fonttools>=4.22.0 in c:\\programdata\\anaconda3\\lib\\site-packages (from matplotlib) (4.25.0)\n",
      "Requirement already satisfied: pillow>=6.2.0 in c:\\programdata\\anaconda3\\lib\\site-packages (from matplotlib) (9.0.1)\n",
      "Requirement already satisfied: cycler>=0.10 in c:\\programdata\\anaconda3\\lib\\site-packages (from matplotlib) (0.11.0)\n",
      "Requirement already satisfied: scipy>=1.0 in c:\\programdata\\anaconda3\\lib\\site-packages (from seaborn) (1.7.3)\n",
      "Requirement already satisfied: MarkupSafe>=2.0 in c:\\programdata\\anaconda3\\lib\\site-packages (from jinja2>=2.9->folium) (2.0.1)\n",
      "Requirement already satisfied: six>=1.5 in c:\\programdata\\anaconda3\\lib\\site-packages (from python-dateutil>=2.8.1->pandas) (1.16.0)\n",
      "Requirement already satisfied: idna<4,>=2.5 in c:\\programdata\\anaconda3\\lib\\site-packages (from requests->folium) (3.3)\n",
      "Requirement already satisfied: charset-normalizer~=2.0.0 in c:\\programdata\\anaconda3\\lib\\site-packages (from requests->folium) (2.0.4)\n",
      "Requirement already satisfied: urllib3<1.27,>=1.21.1 in c:\\programdata\\anaconda3\\lib\\site-packages (from requests->folium) (1.26.9)\n"
     ]
    },
    {
     "name": "stderr",
     "output_type": "stream",
     "text": [
      "\n",
      "WARNING: Ignoring invalid distribution -rotobuf (c:\\users\\lenna\\appdata\\roaming\\python\\python39\\site-packages)\n",
      "WARNING: Ignoring invalid distribution -rotobuf (c:\\users\\lenna\\appdata\\roaming\\python\\python39\\site-packages)\n",
      "WARNING: Ignoring invalid distribution -rotobuf (c:\\users\\lenna\\appdata\\roaming\\python\\python39\\site-packages)\n"
     ]
    }
   ],
   "source": [
    "!pip install pandas folium pyproj matplotlib seaborn"
   ]
  },
  {
   "cell_type": "markdown",
   "id": "f4349385",
   "metadata": {},
   "source": [
    "# Importing Libraries\n",
    "\n",
    "After installing the necessary libraries, we need to import them into our notebook. Each library plays a crucial role in our analysis:\n",
    "\n",
    "- `pandas` is used to manage our data in DataFrame format, which is instrumental in simplifying the data processing and analysis.\n",
    "- `folium` enables the creation of interactive maps, which are vital for visualizing geospatial data effectively.\n",
    "- `pyproj` handles the transformations of coordinate systems, ensuring our geospatial data is accurate and usable.\n",
    "- `matplotlib` and `seaborn` are used for generating static, interactive, and statistical visualizations, making our findings clearer and more impactful.\n",
    "\n",
    "These libraries form the foundation of our analytical capabilities in the subsequent sections of this notebook.\n",
    "\n"
   ]
  },
  {
   "cell_type": "code",
   "execution_count": 29,
   "id": "b25e75a6",
   "metadata": {},
   "outputs": [],
   "source": [
    "import pandas as pd\n",
    "import folium\n",
    "from pyproj import Proj, transform\n",
    "import matplotlib.pyplot as plt\n",
    "import seaborn as sns"
   ]
  },
  {
   "cell_type": "markdown",
   "id": "d3c3bc3f",
   "metadata": {},
   "source": [
    "# Loading the Dataset\n",
    "\n",
    "The initial step in our data analysis process involves loading the windmill data from a CSV file.\n",
    "\n",
    "We attempt to read the data with a semicolon as a delimiter, which is often used in CSV files from European countries. If the `pandas` library encounters any parsing errors due to inconsistent data, it skips the problematic lines.\n"
   ]
  },
  {
   "cell_type": "code",
   "execution_count": 30,
   "id": "cf24815d",
   "metadata": {},
   "outputs": [],
   "source": [
    "try:\n",
    "    df = pd.read_csv('data.csv', delimiter=';')  \n",
    "except pd.errors.ParserError:\n",
    "    df = pd.read_csv('data.csv', delimiter=';', error_bad_lines=False)"
   ]
  },
  {
   "cell_type": "markdown",
   "id": "8d7748b8",
   "metadata": {},
   "source": [
    "# Analysis of Windmill Manufacturers and Types\n",
    "\n",
    "Understanding the distribution of windmill manufacturers and types within the dataset is crucial for identifying industry trends and the diversity of technology in use. This section provides a count of different manufacturers and types, as well as a frequency distribution, which helps in understanding the market share and popularity of specific windmill models.\n"
   ]
  },
  {
   "cell_type": "code",
   "execution_count": 33,
   "id": "c4bfd09d",
   "metadata": {},
   "outputs": [
    {
     "name": "stdout",
     "output_type": "stream",
     "text": [
      "Windmill Manufacturer Distribution:\n",
      "Enercon                     1323\n",
      "Vestas                       850\n",
      "Nordex                       566\n",
      "REpower                      404\n",
      "Senvion                      208\n",
      "Siemens                      173\n",
      "AN BONUS                      84\n",
      "Micon                         77\n",
      "Tacke                         67\n",
      "GE General Electric           44\n",
      "Jacobs                        39\n",
      "Südwind                       25\n",
      "Vensys                        24\n",
      "HSW                           19\n",
      "Nordtank NTK                  15\n",
      "Hersteller nicht bekannt       7\n",
      "Protec                         6\n",
      "DeWind                         4\n",
      "Enron                          4\n",
      "Wind World                     4\n",
      "Prokon                         3\n",
      "Hanseatische AG                1\n",
      "Name: HERSTELLER, dtype: int64\n",
      "\n",
      "Windmill Type Distribution:\n",
      "WKA Enercon E-70 E4             134\n",
      "Enercon E-70/E4                 105\n",
      "Vestas V112                     103\n",
      "Enercon E-82                     58\n",
      "Senvion 3.2M114                  55\n",
      "                               ... \n",
      "Vestas V 44, S-Nr.V-4-2189        1\n",
      "Vestas V 44, S-Nr.V-5-2188        1\n",
      "Vestas V 44, S-Nr.V-6-2190        1\n",
      "Vestas V 44, S-Nr.V-7-2191        1\n",
      "Enercon E 70 E4, S-Nr.782534      1\n",
      "Name: TYP, Length: 1202, dtype: int64\n"
     ]
    }
   ],
   "source": [
    "# Count the number of occurrences for each manufacturer\n",
    "manufacturer_counts = df['HERSTELLER'].value_counts()\n",
    "\n",
    "# Count the number of occurrences for each type of windmill\n",
    "type_counts = df['TYP'].value_counts()\n",
    "\n",
    "# Display the counts for manufacturers and types\n",
    "print(\"Windmill Manufacturer Distribution:\")\n",
    "print(manufacturer_counts)\n",
    "print(\"\\nWindmill Type Distribution:\")\n",
    "print(type_counts)\n"
   ]
  },
  {
   "cell_type": "code",
   "execution_count": 36,
   "id": "7b34da35",
   "metadata": {},
   "outputs": [
    {
     "data": {
      "image/png": "[encoded data removed]",
      "text/plain": [
       "<Figure size 720x432 with 1 Axes>"
      ]
     },
     "metadata": {},
     "output_type": "display_data"
    }
   ],
   "source": [
    "# Set the aesthetic style of the plots\n",
    "sns.set(style=\"whitegrid\")\n",
    "\n",
    "# Data preparation\n",
    "manufacturer_counts = df['HERSTELLER'].value_counts()\n",
    "type_counts = df['TYP'].value_counts()\n",
    "\n",
    "# Creating a bar plot for windmill manufacturers\n",
    "plt.figure(figsize=(10, 6))\n",
    "sns.barplot(x=manufacturer_counts.index, y=manufacturer_counts.values, palette='viridis')\n",
    "plt.title('Distribution of Windmill Manufacturers')\n",
    "plt.xlabel('Manufacturer')\n",
    "plt.ylabel('Number of Windmills')\n",
    "plt.xticks(rotation=45)  # Rotates the labels on the x-axis for better readability\n",
    "plt.show()"
   ]
  },
  {
   "cell_type": "markdown",
   "id": "c575c904",
   "metadata": {},
   "source": [
    "# Geographic Data Conversion and Mapping\n",
    "\n",
    "In this cell, we perform two essential tasks:\n",
    "\n",
    "1. Convert the windmill location data from UTM coordinates to the more familiar geographic coordinates (latitude and longitude).\n",
    "2. Create an interactive map to visualize the locations of the windmills.\n",
    "\n",
    "We use `pyproj` to convert UTM coordinates (in meters) to latitude and longitude (in decimal degrees). Then, we use `folium` to create a map centered around the average coordinates of our windmills. Markers are added to the map to represent each windmill, with tooltips displaying the manufacturer, type, and power output.\n"
   ]
  },
  {
   "cell_type": "code",
   "execution_count": 21,
   "id": "07c966d1",
   "metadata": {},
   "outputs": [
    {
     "name": "stderr",
     "output_type": "stream",
     "text": [
      "C:\\Users\\lenna\\AppData\\Local\\Temp\\ipykernel_16824\\2752583100.py:8: FutureWarning: This function is deprecated. See: https://pyproj4.github.io/pyproj/stable/gotchas.html#upgrading-to-pyproj-2-from-pyproj-1\n",
      "  lon, lat = transform(utm_proj, wgs84_proj, utm_east, utm_north)\n"
     ]
    }
   ],
   "source": [
    "# Set up projections for UTM to WGS84 conversion\n",
    "utm_zone = 32\n",
    "utm_proj = Proj(proj='utm', zone=utm_zone, ellps='WGS84', preserve_units=False)\n",
    "wgs84_proj = Proj(proj='latlong', datum='WGS84')\n",
    "\n",
    "# Function to convert UTM to latitude and longitude\n",
    "def utm_to_latlon(utm_east, utm_north, utm_proj, wgs84_proj):\n",
    "    lon, lat = transform(utm_proj, wgs84_proj, utm_east, utm_north)\n",
    "    return lat, lon\n",
    "\n",
    "# Convert coordinates and add them to the DataFrame\n",
    "df['latitude'], df['longitude'] = zip(*df.apply(lambda x: utm_to_latlon(x['OSTWERT'], x['NORDWERT'], utm_proj, wgs84_proj), axis=1))\n",
    "\n",
    "# Create a folium map centered around the average location\n",
    "map_center = [df['latitude'].mean(), df['longitude'].mean()]\n",
    "\n",
    "m = folium.Map(location=map_center, zoom_start=10)\n",
    "\n",
    "# Add markers to the map\n",
    "for idx, row in df.iterrows():\n",
    "    tooltip_text = f\"{row['HERSTELLER']} {row['TYP']} - {row['LEISTUNG']} kW\"\n",
    "    folium.Marker(\n",
    "        location=[row['latitude'], row['longitude']],\n",
    "        popup=tooltip_text,\n",
    "        tooltip=tooltip_text  # This will show the text when hovering over the marker\n",
    "    ).add_to(m)\n",
    "    \n",
    "m"
   ]
  },
  {
   "cell_type": "code",
   "execution_count": 37,
   "id": "dddccc0b",
   "metadata": {},
   "outputs": [
    {
     "name": "stdout",
     "output_type": "stream",
     "text": [
      "Defaulting to user installation because normal site-packages is not writeable\n",
      "Collecting geopandas\n",
      "  Downloading geopandas-0.14.3-py3-none-any.whl (1.1 MB)\n",
      "Requirement already satisfied: pyproj>=3.3.0 in c:\\users\\lenna\\appdata\\roaming\\python\\python39\\site-packages (from geopandas) (3.6.1)\n",
      "Requirement already satisfied: packaging in c:\\programdata\\anaconda3\\lib\\site-packages (from geopandas) (21.3)\n",
      "Collecting shapely>=1.8.0\n",
      "  Downloading shapely-2.0.4-cp39-cp39-win_amd64.whl (1.4 MB)\n",
      "Requirement already satisfied: pandas>=1.4.0 in c:\\programdata\\anaconda3\\lib\\site-packages (from geopandas) (1.4.2)\n",
      "Collecting fiona>=1.8.21\n",
      "  Downloading fiona-1.9.6-cp39-cp39-win_amd64.whl (22.9 MB)\n",
      "Requirement already satisfied: attrs>=19.2.0 in c:\\programdata\\anaconda3\\lib\\site-packages (from fiona>=1.8.21->geopandas) (21.4.0)\n",
      "Requirement already satisfied: importlib-metadata in c:\\programdata\\anaconda3\\lib\\site-packages (from fiona>=1.8.21->geopandas) (4.11.3)\n",
      "Requirement already satisfied: six in c:\\programdata\\anaconda3\\lib\\site-packages (from fiona>=1.8.21->geopandas) (1.16.0)\n",
      "Collecting cligj>=0.5\n",
      "  Downloading cligj-0.7.2-py3-none-any.whl (7.1 kB)\n",
      "Collecting click-plugins>=1.0\n",
      "  Downloading click_plugins-1.1.1-py2.py3-none-any.whl (7.5 kB)\n",
      "Requirement already satisfied: certifi in c:\\programdata\\anaconda3\\lib\\site-packages (from fiona>=1.8.21->geopandas) (2021.10.8)\n",
      "Requirement already satisfied: click~=8.0 in c:\\programdata\\anaconda3\\lib\\site-packages (from fiona>=1.8.21->geopandas) (8.0.4)\n",
      "Requirement already satisfied: colorama in c:\\programdata\\anaconda3\\lib\\site-packages (from click~=8.0->fiona>=1.8.21->geopandas) (0.4.4)\n",
      "Requirement already satisfied: numpy>=1.18.5 in c:\\programdata\\anaconda3\\lib\\site-packages (from pandas>=1.4.0->geopandas) (1.21.5)\n",
      "Requirement already satisfied: pytz>=2020.1 in c:\\programdata\\anaconda3\\lib\\site-packages (from pandas>=1.4.0->geopandas) (2021.3)\n",
      "Requirement already satisfied: python-dateutil>=2.8.1 in c:\\programdata\\anaconda3\\lib\\site-packages (from pandas>=1.4.0->geopandas) (2.8.2)\n",
      "Requirement already satisfied: zipp>=0.5 in c:\\programdata\\anaconda3\\lib\\site-packages (from importlib-metadata->fiona>=1.8.21->geopandas) (3.7.0)\n",
      "Requirement already satisfied: pyparsing!=3.0.5,>=2.0.2 in c:\\programdata\\anaconda3\\lib\\site-packages (from packaging->geopandas) (3.0.4)\n",
      "Installing collected packages: cligj, click-plugins, shapely, fiona, geopandas\n",
      "Successfully installed click-plugins-1.1.1 cligj-0.7.2 fiona-1.9.6 geopandas-0.14.3 shapely-2.0.4\n"
     ]
    },
    {
     "name": "stderr",
     "output_type": "stream",
     "text": [
      "WARNING: Ignoring invalid distribution -rotobuf (c:\\users\\lenna\\appdata\\roaming\\python\\python39\\site-packages)\n",
      "WARNING: Ignoring invalid distribution -rotobuf (c:\\users\\lenna\\appdata\\roaming\\python\\python39\\site-packages)\n",
      "WARNING: Ignoring invalid distribution -rotobuf (c:\\users\\lenna\\appdata\\roaming\\python\\python39\\site-packages)\n",
      "WARNING: Ignoring invalid distribution -rotobuf (c:\\users\\lenna\\appdata\\roaming\\python\\python39\\site-packages)\n",
      "WARNING: Ignoring invalid distribution -rotobuf (c:\\users\\lenna\\appdata\\roaming\\python\\python39\\site-packages)\n",
      "WARNING: Ignoring invalid distribution -rotobuf (c:\\users\\lenna\\appdata\\roaming\\python\\python39\\site-packages)\n",
      "WARNING: Ignoring invalid distribution -rotobuf (c:\\users\\lenna\\appdata\\roaming\\python\\python39\\site-packages)\n",
      "WARNING: Ignoring invalid distribution -rotobuf (c:\\users\\lenna\\appdata\\roaming\\python\\python39\\site-packages)\n",
      "WARNING: Ignoring invalid distribution -rotobuf (c:\\users\\lenna\\appdata\\roaming\\python\\python39\\site-packages)\n",
      "WARNING: Ignoring invalid distribution -rotobuf (c:\\users\\lenna\\appdata\\roaming\\python\\python39\\site-packages)\n",
      "WARNING: Ignoring invalid distribution -rotobuf (c:\\users\\lenna\\appdata\\roaming\\python\\python39\\site-packages)\n"
     ]
    }
   ],
   "source": [
    "!pip install geopandas\n"
   ]
  },
  {
   "cell_type": "code",
   "execution_count": 38,
   "id": "d7cfa624",
   "metadata": {},
   "outputs": [],
   "source": [
    "import pandas as pd\n",
    "import geopandas as gpd\n",
    "\n",
    "# Example DataFrame with windmills data\n",
    "data = {\n",
    "    'Area_ID': ['Area1', 'Area1', 'Area2', 'Area2', 'Area2', 'Area3'],\n",
    "    'Latitude': [34.05, 34.06, 35.71, 35.72, 35.73, 36.77],\n",
    "    'Longitude': [-118.24, -118.25, -78.65, -78.66, -78.67, -119.42]\n",
    "}\n",
    "df = pd.DataFrame(data)\n",
    "\n",
    "# Aggregate the data by area\n",
    "area_count = df.groupby('Area_ID').size().reset_index(name='Count')"
   ]
  },
  {
   "cell_type": "code",
   "execution_count": 39,
   "id": "813c01f3",
   "metadata": {},
   "outputs": [
    {
     "ename": "DriverError",
     "evalue": "path_to_geodata: No such file or directory",
     "output_type": "error",
     "traceback": [
      "\u001b[1;31m---------------------------------------------------------------------------\u001b[0m",
      "\u001b[1;31mCPLE_OpenFailedError\u001b[0m                      Traceback (most recent call last)",
      "File \u001b[1;32mfiona\\\\ogrext.pyx:136\u001b[0m, in \u001b[0;36mfiona.ogrext.gdal_open_vector\u001b[1;34m()\u001b[0m\n",
      "File \u001b[1;32mfiona\\\\_err.pyx:291\u001b[0m, in \u001b[0;36mfiona._err.exc_wrap_pointer\u001b[1;34m()\u001b[0m\n",
      "\u001b[1;31mCPLE_OpenFailedError\u001b[0m: path_to_geodata: No such file or directory",
      "\nDuring handling of the above exception, another exception occurred:\n",
      "\u001b[1;31mDriverError\u001b[0m                               Traceback (most recent call last)",
      "Input \u001b[1;32mIn [39]\u001b[0m, in \u001b[0;36m<cell line: 3>\u001b[1;34m()\u001b[0m\n\u001b[0;32m      1\u001b[0m \u001b[38;5;66;03m# Load geographic boundaries (assuming a GeoDataFrame is loaded or created)\u001b[39;00m\n\u001b[0;32m      2\u001b[0m \u001b[38;5;66;03m# For demonstration, replace 'path_to_geodata' with the path to your geographic data file\u001b[39;00m\n\u001b[1;32m----> 3\u001b[0m geo_data \u001b[38;5;241m=\u001b[39m \u001b[43mgpd\u001b[49m\u001b[38;5;241;43m.\u001b[39;49m\u001b[43mread_file\u001b[49m\u001b[43m(\u001b[49m\u001b[38;5;124;43m'\u001b[39;49m\u001b[38;5;124;43mpath_to_geodata\u001b[39;49m\u001b[38;5;124;43m'\u001b[39;49m\u001b[43m)\u001b[49m\n\u001b[0;32m      5\u001b[0m \u001b[38;5;66;03m# Merge the counts with the geographic data\u001b[39;00m\n\u001b[0;32m      6\u001b[0m geo_data \u001b[38;5;241m=\u001b[39m geo_data\u001b[38;5;241m.\u001b[39mmerge(area_count, how\u001b[38;5;241m=\u001b[39m\u001b[38;5;124m'\u001b[39m\u001b[38;5;124mleft\u001b[39m\u001b[38;5;124m'\u001b[39m, left_on\u001b[38;5;241m=\u001b[39m\u001b[38;5;124m'\u001b[39m\u001b[38;5;124marea_identifier\u001b[39m\u001b[38;5;124m'\u001b[39m, right_on\u001b[38;5;241m=\u001b[39m\u001b[38;5;124m'\u001b[39m\u001b[38;5;124mArea_ID\u001b[39m\u001b[38;5;124m'\u001b[39m)\n",
      "File \u001b[1;32m~\\AppData\\Roaming\\Python\\Python39\\site-packages\\geopandas\\io\\file.py:297\u001b[0m, in \u001b[0;36m_read_file\u001b[1;34m(filename, bbox, mask, rows, engine, **kwargs)\u001b[0m\n\u001b[0;32m    294\u001b[0m     \u001b[38;5;28;01melse\u001b[39;00m:\n\u001b[0;32m    295\u001b[0m         path_or_bytes \u001b[38;5;241m=\u001b[39m filename\n\u001b[1;32m--> 297\u001b[0m     \u001b[38;5;28;01mreturn\u001b[39;00m _read_file_fiona(\n\u001b[0;32m    298\u001b[0m         path_or_bytes, from_bytes, bbox\u001b[38;5;241m=\u001b[39mbbox, mask\u001b[38;5;241m=\u001b[39mmask, rows\u001b[38;5;241m=\u001b[39mrows, \u001b[38;5;241m*\u001b[39m\u001b[38;5;241m*\u001b[39mkwargs\n\u001b[0;32m    299\u001b[0m     )\n\u001b[0;32m    301\u001b[0m \u001b[38;5;28;01melse\u001b[39;00m:\n\u001b[0;32m    302\u001b[0m     \u001b[38;5;28;01mraise\u001b[39;00m \u001b[38;5;167;01mValueError\u001b[39;00m(\u001b[38;5;124mf\u001b[39m\u001b[38;5;124m\"\u001b[39m\u001b[38;5;124munknown engine \u001b[39m\u001b[38;5;124m'\u001b[39m\u001b[38;5;132;01m{\u001b[39;00mengine\u001b[38;5;132;01m}\u001b[39;00m\u001b[38;5;124m'\u001b[39m\u001b[38;5;124m\"\u001b[39m)\n",
      "File \u001b[1;32m~\\AppData\\Roaming\\Python\\Python39\\site-packages\\geopandas\\io\\file.py:338\u001b[0m, in \u001b[0;36m_read_file_fiona\u001b[1;34m(path_or_bytes, from_bytes, bbox, mask, rows, where, **kwargs)\u001b[0m\n\u001b[0;32m    335\u001b[0m     reader \u001b[38;5;241m=\u001b[39m fiona\u001b[38;5;241m.\u001b[39mopen\n\u001b[0;32m    337\u001b[0m \u001b[38;5;28;01mwith\u001b[39;00m fiona_env():\n\u001b[1;32m--> 338\u001b[0m     \u001b[38;5;28;01mwith\u001b[39;00m reader(path_or_bytes, \u001b[38;5;241m*\u001b[39m\u001b[38;5;241m*\u001b[39mkwargs) \u001b[38;5;28;01mas\u001b[39;00m features:\n\u001b[0;32m    339\u001b[0m         crs \u001b[38;5;241m=\u001b[39m features\u001b[38;5;241m.\u001b[39mcrs_wkt\n\u001b[0;32m    340\u001b[0m         \u001b[38;5;66;03m# attempt to get EPSG code\u001b[39;00m\n",
      "File \u001b[1;32m~\\AppData\\Roaming\\Python\\Python39\\site-packages\\fiona\\env.py:457\u001b[0m, in \u001b[0;36mensure_env_with_credentials.<locals>.wrapper\u001b[1;34m(*args, **kwds)\u001b[0m\n\u001b[0;32m    454\u001b[0m     session \u001b[38;5;241m=\u001b[39m DummySession()\n\u001b[0;32m    456\u001b[0m \u001b[38;5;28;01mwith\u001b[39;00m env_ctor(session\u001b[38;5;241m=\u001b[39msession):\n\u001b[1;32m--> 457\u001b[0m     \u001b[38;5;28;01mreturn\u001b[39;00m f(\u001b[38;5;241m*\u001b[39margs, \u001b[38;5;241m*\u001b[39m\u001b[38;5;241m*\u001b[39mkwds)\n",
      "File \u001b[1;32m~\\AppData\\Roaming\\Python\\Python39\\site-packages\\fiona\\__init__.py:320\u001b[0m, in \u001b[0;36mopen\u001b[1;34m(fp, mode, driver, schema, crs, encoding, layer, vfs, enabled_drivers, crs_wkt, allow_unsupported_drivers, **kwargs)\u001b[0m\n\u001b[0;32m    317\u001b[0m     path \u001b[38;5;241m=\u001b[39m parse_path(fp)\n\u001b[0;32m    319\u001b[0m \u001b[38;5;28;01mif\u001b[39;00m mode \u001b[38;5;129;01min\u001b[39;00m (\u001b[38;5;124m\"\u001b[39m\u001b[38;5;124ma\u001b[39m\u001b[38;5;124m\"\u001b[39m, \u001b[38;5;124m\"\u001b[39m\u001b[38;5;124mr\u001b[39m\u001b[38;5;124m\"\u001b[39m):\n\u001b[1;32m--> 320\u001b[0m     colxn \u001b[38;5;241m=\u001b[39m Collection(\n\u001b[0;32m    321\u001b[0m         path,\n\u001b[0;32m    322\u001b[0m         mode,\n\u001b[0;32m    323\u001b[0m         driver\u001b[38;5;241m=\u001b[39mdriver,\n\u001b[0;32m    324\u001b[0m         encoding\u001b[38;5;241m=\u001b[39mencoding,\n\u001b[0;32m    325\u001b[0m         layer\u001b[38;5;241m=\u001b[39mlayer,\n\u001b[0;32m    326\u001b[0m         enabled_drivers\u001b[38;5;241m=\u001b[39menabled_drivers,\n\u001b[0;32m    327\u001b[0m         allow_unsupported_drivers\u001b[38;5;241m=\u001b[39mallow_unsupported_drivers,\n\u001b[0;32m    328\u001b[0m         \u001b[38;5;241m*\u001b[39m\u001b[38;5;241m*\u001b[39mkwargs\n\u001b[0;32m    329\u001b[0m     )\n\u001b[0;32m    330\u001b[0m \u001b[38;5;28;01melif\u001b[39;00m mode \u001b[38;5;241m==\u001b[39m \u001b[38;5;124m\"\u001b[39m\u001b[38;5;124mw\u001b[39m\u001b[38;5;124m\"\u001b[39m:\n\u001b[0;32m    331\u001b[0m     colxn \u001b[38;5;241m=\u001b[39m Collection(\n\u001b[0;32m    332\u001b[0m         path,\n\u001b[0;32m    333\u001b[0m         mode,\n\u001b[1;32m   (...)\u001b[0m\n\u001b[0;32m    342\u001b[0m         \u001b[38;5;241m*\u001b[39m\u001b[38;5;241m*\u001b[39mkwargs\n\u001b[0;32m    343\u001b[0m     )\n",
      "File \u001b[1;32m~\\AppData\\Roaming\\Python\\Python39\\site-packages\\fiona\\collection.py:243\u001b[0m, in \u001b[0;36mCollection.__init__\u001b[1;34m(self, path, mode, driver, schema, crs, encoding, layer, vsi, archive, enabled_drivers, crs_wkt, ignore_fields, ignore_geometry, include_fields, wkt_version, allow_unsupported_drivers, **kwargs)\u001b[0m\n\u001b[0;32m    241\u001b[0m \u001b[38;5;28;01mif\u001b[39;00m \u001b[38;5;28mself\u001b[39m\u001b[38;5;241m.\u001b[39mmode \u001b[38;5;241m==\u001b[39m \u001b[38;5;124m\"\u001b[39m\u001b[38;5;124mr\u001b[39m\u001b[38;5;124m\"\u001b[39m:\n\u001b[0;32m    242\u001b[0m     \u001b[38;5;28mself\u001b[39m\u001b[38;5;241m.\u001b[39msession \u001b[38;5;241m=\u001b[39m Session()\n\u001b[1;32m--> 243\u001b[0m     \u001b[38;5;28mself\u001b[39m\u001b[38;5;241m.\u001b[39msession\u001b[38;5;241m.\u001b[39mstart(\u001b[38;5;28mself\u001b[39m, \u001b[38;5;241m*\u001b[39m\u001b[38;5;241m*\u001b[39mkwargs)\n\u001b[0;32m    244\u001b[0m \u001b[38;5;28;01melif\u001b[39;00m \u001b[38;5;28mself\u001b[39m\u001b[38;5;241m.\u001b[39mmode \u001b[38;5;129;01min\u001b[39;00m (\u001b[38;5;124m\"\u001b[39m\u001b[38;5;124ma\u001b[39m\u001b[38;5;124m\"\u001b[39m, \u001b[38;5;124m\"\u001b[39m\u001b[38;5;124mw\u001b[39m\u001b[38;5;124m\"\u001b[39m):\n\u001b[0;32m    245\u001b[0m     \u001b[38;5;28mself\u001b[39m\u001b[38;5;241m.\u001b[39msession \u001b[38;5;241m=\u001b[39m WritingSession()\n",
      "File \u001b[1;32mfiona\\\\ogrext.pyx:588\u001b[0m, in \u001b[0;36mfiona.ogrext.Session.start\u001b[1;34m()\u001b[0m\n",
      "File \u001b[1;32mfiona\\\\ogrext.pyx:143\u001b[0m, in \u001b[0;36mfiona.ogrext.gdal_open_vector\u001b[1;34m()\u001b[0m\n",
      "\u001b[1;31mDriverError\u001b[0m: path_to_geodata: No such file or directory"
     ]
    }
   ],
   "source": [
    "# Load geographic boundaries (assuming a GeoDataFrame is loaded or created)\n",
    "# For demonstration, replace 'path_to_geodata' with the path to your geographic data file\n",
    "geo_data = gpd.read_file('path_to_geodata')\n",
    "\n",
    "# Merge the counts with the geographic data\n",
    "geo_data = geo_data.merge(area_count, how='left', left_on='area_identifier', right_on='Area_ID')\n"
   ]
  }
 ],
 "metadata": {
  "kernelspec": {
   "display_name": "Python 3 (ipykernel)",
   "language": "python",
   "name": "python3"
  },
  "language_info": {
   "codemirror_mode": {
    "name": "ipython",
    "version": 3
   },
   "file_extension": ".py",
   "mimetype": "text/x-python",
   "name": "python",
   "nbconvert_exporter": "python",
   "pygments_lexer": "ipython3",
   "version": "3.9.12"
  }
 },
 "nbformat": 4,
 "nbformat_minor": 5
}
